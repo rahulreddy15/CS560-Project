{
 "cells": [
  {
   "cell_type": "code",
   "execution_count": null,
   "id": "afe8aaaf",
   "metadata": {},
   "outputs": [],
   "source": [
    "import twint\n",
    "import nest_asyncio\n",
    "nest_asyncio.apply()"
   ]
  },
  {
   "cell_type": "code",
   "execution_count": null,
   "id": "ea83beb6",
   "metadata": {},
   "outputs": [],
   "source": [
    "# Configuration\n",
    "\n",
    "config = twint.Config()\n",
    "config.Search = '$TSLA'\n",
    "config.Lang = 'en'\n",
    "config.Limit = 10000000000000000\n",
    "config.Filter_retweets = True\n",
    "config.Since = '2011-11-01'\n",
    "config.Custom['tweet'] = ['id', 'date', 'time', 'tweet', 'likes_count', 'replies_count', 'retweets_count', 'hashtags']\n",
    "config.Store_json = True\n",
    "config.Output = 'tsla.csv'\n",
    "twint.run.Search(config)"
   ]
  },
  {
   "cell_type": "code",
   "execution_count": null,
   "id": "7f31e569",
   "metadata": {},
   "outputs": [],
   "source": []
  }
 ],
 "metadata": {
  "kernelspec": {
   "display_name": "Python 3 (ipykernel)",
   "language": "python",
   "name": "python3"
  },
  "language_info": {
   "codemirror_mode": {
    "name": "ipython",
    "version": 3
   },
   "file_extension": ".py",
   "mimetype": "text/x-python",
   "name": "python",
   "nbconvert_exporter": "python",
   "pygments_lexer": "ipython3",
   "version": "3.8.10"
  }
 },
 "nbformat": 4,
 "nbformat_minor": 5
}
