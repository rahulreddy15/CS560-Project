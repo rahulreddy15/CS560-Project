{
 "cells": [
  {
   "cell_type": "code",
   "execution_count": 2,
   "metadata": {},
   "outputs": [],
   "source": [
    "import yfinance as yf\n",
    "tesla = yf.Ticker(\"TSLA\")\n",
    "\n",
    "tesla_history_10years_1wkinterval = tesla.history(period=\"10y\", interval=\"1wk\")\n",
    "tesla_history_5years_1wkinterval = tesla.history(period=\"5y\", interval=\"1wk\")\n",
    "tesla_history_2years_1wkinterval = tesla.history(period=\"2y\", interval=\"1wk\")\n"
   ]
  },
  {
   "cell_type": "code",
   "execution_count": 3,
   "metadata": {},
   "outputs": [
    {
     "name": "stdout",
     "output_type": "stream",
     "text": [
      "                   Open         High          Low        Close       Volume  \\\n",
      "Date                                                                          \n",
      "2011-11-14     6.900000     6.980000     6.508000     6.520000   11260500.0   \n",
      "2011-11-21     6.488000     6.558000     6.210000     6.332000   12278000.0   \n",
      "2011-11-28     6.400000     6.798000     6.326000     6.660000   19328000.0   \n",
      "2011-12-05     6.706000     7.000000     5.922000     6.208000   36657500.0   \n",
      "2011-12-12     6.088000     6.186000     5.596000     5.600000   23233500.0   \n",
      "...                 ...          ...          ...          ...          ...   \n",
      "2021-10-25   950.530029  1115.209961   944.200012  1114.000000  220925200.0   \n",
      "2021-11-01  1145.000000  1243.489990  1118.660034  1222.089966  180392300.0   \n",
      "2021-11-08  1149.790039  1197.000000   987.309998  1033.420044  182933100.0   \n",
      "2021-11-15  1017.630005  1057.199951   978.599976  1054.729980   61318000.0   \n",
      "2021-11-17  1063.510010  1119.640015  1055.500000  1089.010010   31000866.0   \n",
      "\n",
      "            Dividends  Stock Splits  \n",
      "Date                                 \n",
      "2011-11-14          0           0.0  \n",
      "2011-11-21          0           0.0  \n",
      "2011-11-28          0           0.0  \n",
      "2011-12-05          0           0.0  \n",
      "2011-12-12          0           0.0  \n",
      "...               ...           ...  \n",
      "2021-10-25          0           0.0  \n",
      "2021-11-01          0           0.0  \n",
      "2021-11-08          0           0.0  \n",
      "2021-11-15          0           0.0  \n",
      "2021-11-17          0           0.0  \n",
      "\n",
      "[524 rows x 7 columns]\n"
     ]
    }
   ],
   "source": [
    "print(tesla_history_10years_1wkinterval)"
   ]
  },
  {
   "cell_type": "code",
   "execution_count": null,
   "metadata": {},
   "outputs": [],
   "source": []
  }
 ],
 "metadata": {
  "interpreter": {
   "hash": "916dbcbb3f70747c44a77c7bcd40155683ae19c65e1c03b4aa3499c5328201f1"
  },
  "kernelspec": {
   "display_name": "Python 3.8.10 64-bit",
   "language": "python",
   "name": "python3"
  },
  "language_info": {
   "codemirror_mode": {
    "name": "ipython",
    "version": 3
   },
   "file_extension": ".py",
   "mimetype": "text/x-python",
   "name": "python",
   "nbconvert_exporter": "python",
   "pygments_lexer": "ipython3",
   "version": "3.8.10"
  },
  "orig_nbformat": 4
 },
 "nbformat": 4,
 "nbformat_minor": 2
}
